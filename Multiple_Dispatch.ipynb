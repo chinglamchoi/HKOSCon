{
 "cells": [
  {
   "cell_type": "code",
   "execution_count": 3,
   "metadata": {},
   "outputs": [
    {
     "data": {
      "text/plain": [
       "speed (generic function with 6 methods)"
      ]
     },
     "execution_count": 3,
     "metadata": {},
     "output_type": "execute_result"
    }
   ],
   "source": [
    "abstract type Language end\n",
    "struct Julia <: Language; name::String end\n",
    "struct Python <: Language; name::String end\n",
    "struct C <: Language; name::String end\n",
    "\n",
    "function compare(a::Language, b::Language)\n",
    "    verb = speed(a,b)\n",
    "    println(\"$(a.name) is $verb than $(b.name)\")\n",
    "end\n",
    "\n",
    "speed(a::Julia, b::Python) = \"faster\"\n",
    "speed(a::Julia, b::C) = \"slower\"\n",
    "speed(a::Python, b::Julia) = \"slower\"\n",
    "speed(a::Python, b::C) = \"slower\"\n",
    "speed(a::C, b::Julia) = \"faster\"\n",
    "speed(a::C, b::Python) = \"faster\""
   ]
  },
  {
   "cell_type": "code",
   "execution_count": 7,
   "metadata": {},
   "outputs": [
    {
     "name": "stdout",
     "output_type": "stream",
     "text": [
      "Julia v1.4.2 is faster than Python 3.8.3\n"
     ]
    }
   ],
   "source": [
    "a = Julia(\"Julia v1.4.2\")\n",
    "b = Python(\"Python 3.8.3\")\n",
    "c = C(\"C18\")\n",
    "compare(a,b)"
   ]
  }
 ],
 "metadata": {
  "kernelspec": {
   "display_name": "Julia 1.3.0",
   "language": "julia",
   "name": "julia-1.3"
  },
  "language_info": {
   "file_extension": ".jl",
   "mimetype": "application/julia",
   "name": "julia",
   "version": "1.3.0"
  }
 },
 "nbformat": 4,
 "nbformat_minor": 4
}
