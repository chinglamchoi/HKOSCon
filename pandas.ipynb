{
 "cells": [
  {
   "cell_type": "code",
   "execution_count": 1,
   "metadata": {},
   "outputs": [],
   "source": [
    "import timeit\n",
    "\n",
    "default_setup = \"\"\"import pandas\n",
    "books = pandas.read_csv(\"/Users/kimfung/Documents/juliacomm/books.csv\", names = [\"ISBN\", \"Image\", \"Link\", \"Title\", \"Author\", \"Category Number\", \"Category Name\"])\"\"\"\n",
    "\n",
    "def timer(s1, s2, num):\n",
    "    print(str(round(timeit.timeit(stmt = s1, setup = s2, number = num)/(num/1000000), 3)), \"μs\")"
   ]
  },
  {
   "cell_type": "markdown",
   "metadata": {},
   "source": [
    "Loading CSV file into dataframe"
   ]
  },
  {
   "cell_type": "code",
   "execution_count": 2,
   "metadata": {},
   "outputs": [
    {
     "name": "stdout",
     "output_type": "stream",
     "text": [
      "1527.666 μs\n"
     ]
    }
   ],
   "source": [
    "timer('books = pandas.read_csv(\"/Users/kimfung/Documents/juliacomm/books.csv\", names = [\"ISBN\", \"Image\", \"Link\", \"Title\", \"Author\", \"Category Number\", \"Category Name\"])', \"import pandas\", 15)"
   ]
  },
  {
   "cell_type": "markdown",
   "metadata": {},
   "source": [
    "Number of rows in dataframe"
   ]
  },
  {
   "cell_type": "code",
   "execution_count": 3,
   "metadata": {},
   "outputs": [
    {
     "name": "stdout",
     "output_type": "stream",
     "text": [
      "0.812 μs\n"
     ]
    }
   ],
   "source": [
    "timer(\"len(books)\", default_setup, 15)"
   ]
  },
  {
   "cell_type": "markdown",
   "metadata": {},
   "source": [
    "Title of the first book"
   ]
  },
  {
   "cell_type": "code",
   "execution_count": 5,
   "metadata": {},
   "outputs": [
    {
     "name": "stdout",
     "output_type": "stream",
     "text": [
      "24.648 μs\n"
     ]
    }
   ],
   "source": [
    "timer('books[\"Title\"][0]', default_setup, 15)"
   ]
  },
  {
   "cell_type": "markdown",
   "metadata": {},
   "source": [
    "Adding new information onto row 11"
   ]
  },
  {
   "cell_type": "code",
   "execution_count": 6,
   "metadata": {},
   "outputs": [
    {
     "name": "stdout",
     "output_type": "stream",
     "text": [
      "506.029 μs\n"
     ]
    }
   ],
   "source": [
    "timer('books.loc[11] = [\"12345\"] + [\"image.jpg\"] + [\"mywebsite.com\"] + [\"My Book\"] + [\"Me\"] + [\"100\"] + [\"Random\"]', default_setup, 15)"
   ]
  }
 ],
 "metadata": {
  "kernelspec": {
   "display_name": "Python 3",
   "language": "python",
   "name": "python3"
  },
  "language_info": {
   "codemirror_mode": {
    "name": "ipython",
    "version": 3
   },
   "file_extension": ".py",
   "mimetype": "text/x-python",
   "name": "python",
   "nbconvert_exporter": "python",
   "pygments_lexer": "ipython3",
   "version": "3.7.4"
  }
 },
 "nbformat": 4,
 "nbformat_minor": 2
}
