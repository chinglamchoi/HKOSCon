{
 "cells": [
  {
   "cell_type": "code",
   "execution_count": 49,
   "metadata": {},
   "outputs": [],
   "source": [
    "using CSV, BenchmarkTools, DataFrames\n",
    "books = DataFrame(CSV.read(\"/Users/kimfung/Documents/juliacomm/books.csv\"; header= [\"ISBN\", \"Image\", \"Link\", \"Title\", \"Author\", \"Category Number\", \"Category Name\"]));"
   ]
  },
  {
   "cell_type": "markdown",
   "metadata": {},
   "source": [
    "Loading CSV file into dataframe"
   ]
  },
  {
   "cell_type": "code",
   "execution_count": 45,
   "metadata": {},
   "outputs": [
    {
     "data": {
      "text/plain": [
       "BenchmarkTools.Trial: \n",
       "  memory estimate:  22.95 KiB\n",
       "  allocs estimate:  276\n",
       "  --------------\n",
       "  minimum time:     221.258 μs (0.00% GC)\n",
       "  median time:      317.011 μs (0.00% GC)\n",
       "  mean time:        344.573 μs (0.85% GC)\n",
       "  maximum time:     75.207 ms (13.37% GC)\n",
       "  --------------\n",
       "  samples:          10000\n",
       "  evals/sample:     1"
      ]
     },
     "execution_count": 45,
     "metadata": {},
     "output_type": "execute_result"
    }
   ],
   "source": [
    "@benchmark CSV.read(\"/Users/kimfung/Documents/juliacomm/books.csv\"; header=[\"ISBN\", \"Image\", \"Link\", \"Title\", \"Author\", \"Category Number\", \"Category Name\"])"
   ]
  },
  {
   "cell_type": "markdown",
   "metadata": {},
   "source": [
    "Number of rows in dataframe"
   ]
  },
  {
   "cell_type": "code",
   "execution_count": 51,
   "metadata": {},
   "outputs": [
    {
     "name": "stderr",
     "output_type": "stream",
     "text": [
      "┌ Warning: `length(df::AbstractDataFrame)` is deprecated, use `size(df, 2)` instead.\n",
      "│   caller = ##core#452() at execution.jl:297\n",
      "└ @ Main /Users/kimfung/.julia/packages/BenchmarkTools/7aqwe/src/execution.jl:297\n"
     ]
    },
    {
     "data": {
      "text/plain": [
       "BenchmarkTools.Trial: \n",
       "  memory estimate:  11.14 KiB\n",
       "  allocs estimate:  82\n",
       "  --------------\n",
       "  minimum time:     100.906 μs (0.00% GC)\n",
       "  median time:      106.015 μs (0.00% GC)\n",
       "  mean time:        117.101 μs (1.05% GC)\n",
       "  maximum time:     12.525 ms (98.57% GC)\n",
       "  --------------\n",
       "  samples:          10000\n",
       "  evals/sample:     1"
      ]
     },
     "execution_count": 51,
     "metadata": {},
     "output_type": "execute_result"
    }
   ],
   "source": [
    "@benchmark length(books)"
   ]
  },
  {
   "cell_type": "markdown",
   "metadata": {},
   "source": [
    "Title of the first book"
   ]
  },
  {
   "cell_type": "code",
   "execution_count": 53,
   "metadata": {},
   "outputs": [
    {
     "name": "stderr",
     "output_type": "stream",
     "text": [
      "┌ Warning: `getindex(df::DataFrame, col_ind::ColumnIndex)` is deprecated, use `df[!, col_ind]` instead.\n",
      "│   caller = ##core#460() at execution.jl:297\n",
      "└ @ Main /Users/kimfung/.julia/packages/BenchmarkTools/7aqwe/src/execution.jl:297\n"
     ]
    },
    {
     "data": {
      "text/plain": [
       "BenchmarkTools.Trial: \n",
       "  memory estimate:  11.16 KiB\n",
       "  allocs estimate:  83\n",
       "  --------------\n",
       "  minimum time:     101.468 μs (0.00% GC)\n",
       "  median time:      104.184 μs (0.00% GC)\n",
       "  mean time:        108.983 μs (1.02% GC)\n",
       "  maximum time:     11.293 ms (98.64% GC)\n",
       "  --------------\n",
       "  samples:          10000\n",
       "  evals/sample:     1"
      ]
     },
     "execution_count": 53,
     "metadata": {},
     "output_type": "execute_result"
    }
   ],
   "source": [
    "@benchmark books[1][4]"
   ]
  },
  {
   "cell_type": "markdown",
   "metadata": {},
   "source": [
    "Adding new information onto row 11"
   ]
  },
  {
   "cell_type": "code",
   "execution_count": 50,
   "metadata": {},
   "outputs": [
    {
     "data": {
      "text/plain": [
       "BenchmarkTools.Trial: \n",
       "  memory estimate:  480 bytes\n",
       "  allocs estimate:  19\n",
       "  --------------\n",
       "  minimum time:     2.381 μs (0.00% GC)\n",
       "  median time:      2.455 μs (0.00% GC)\n",
       "  mean time:        2.715 μs (0.00% GC)\n",
       "  maximum time:     684.301 μs (0.00% GC)\n",
       "  --------------\n",
       "  samples:          10000\n",
       "  evals/sample:     9"
      ]
     },
     "execution_count": 50,
     "metadata": {},
     "output_type": "execute_result"
    }
   ],
   "source": [
    "@benchmark push!(books, [parse(Int64, \"12345\"), \"image.jpg\", \"mywebsite.com\", \"My Book\", \"Me\", parse(Int64, \"100\"), \"Random\"])"
   ]
  }
 ],
 "metadata": {
  "kernelspec": {
   "display_name": "Julia 1.3.0",
   "language": "julia",
   "name": "julia-1.3"
  },
  "language_info": {
   "file_extension": ".jl",
   "mimetype": "application/julia",
   "name": "julia",
   "version": "1.3.0"
  }
 },
 "nbformat": 4,
 "nbformat_minor": 2
}
