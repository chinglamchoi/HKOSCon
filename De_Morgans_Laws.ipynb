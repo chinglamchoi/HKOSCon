{
 "cells": [
  {
   "cell_type": "markdown",
   "metadata": {},
   "source": [
    "# Introduction to the Julia community #\n",
    "### De Morgan's Law's function written in Julia 1.3.0: ###\n",
    "<br>\n",
    "<center> $\\overline{A \\cup B} = \\overline{A} \\cap \\overline{B},$ </center>\n",
    "<center> $\\overline{A \\cap B} = \\overline{A} \\cup \\overline{B}$ </center>\n",
    "~ By Choi Ching Lam"
   ]
  },
  {
   "cell_type": "code",
   "execution_count": 3,
   "metadata": {},
   "outputs": [
    {
     "data": {
      "text/plain": [
       "DeMorgan (generic function with 1 method)"
      ]
     },
     "execution_count": 3,
     "metadata": {},
     "output_type": "execute_result"
    }
   ],
   "source": [
    "function DeMorgan()\n",
    "    print(\"Enter value for boolean A (true or false): \")\n",
    "    A = parse(Bool, readline())\n",
    "    print(\"Enter value for boolean B: (true or false): \")\n",
    "    B = parse(Bool, readline())\n",
    "    println(\"!(A && B) == (!A || !B) is \" * string(!(A && B) == (!A || !B)))\n",
    "    println(\"(!(A || B)) == (!A && !B) is \" * string((!(A || B)) == (!A && !B)))\n",
    "end"
   ]
  },
  {
   "cell_type": "code",
   "execution_count": 4,
   "metadata": {},
   "outputs": [
    {
     "name": "stdout",
     "output_type": "stream",
     "text": [
      "Enter value for boolean A (true or false): stdin> true\n",
      "Enter value for boolean B: (true or false): stdin> true\n",
      "!(A && B) == (!A || !B) is true\n",
      "(!(A || B)) == (!A && !B) is true\n"
     ]
    }
   ],
   "source": [
    "DeMorgan()"
   ]
  },
  {
   "cell_type": "code",
   "execution_count": null,
   "metadata": {},
   "outputs": [],
   "source": []
  }
 ],
 "metadata": {
  "kernelspec": {
   "display_name": "Julia 1.3.0",
   "language": "julia",
   "name": "julia-1.3"
  },
  "language_info": {
   "file_extension": ".jl",
   "mimetype": "application/julia",
   "name": "julia",
   "version": "1.3.0"
  }
 },
 "nbformat": 4,
 "nbformat_minor": 2
}
