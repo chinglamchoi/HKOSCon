{
 "cells": [
  {
   "cell_type": "markdown",
   "metadata": {},
   "source": [
    "# Tutorial\n",
    "\n",
    "Please note that this tutorial assumes basic knowledge of Julia and that it has been installed. If not, please refer to the videos linked in the video description and follow their instructions to get started!"
   ]
  },
  {
   "cell_type": "markdown",
   "metadata": {},
   "source": [
    "# Getting Makie"
   ]
  },
  {
   "cell_type": "markdown",
   "metadata": {},
   "source": [
    "The first use of Makie might take a little bit of time, due to precompilation."
   ]
  },
  {
   "cell_type": "code",
   "execution_count": 2,
   "metadata": {},
   "outputs": [
    {
     "name": "stdout",
     "output_type": "stream",
     "text": [
      "\u001b[32m\u001b[1m  Updating\u001b[22m\u001b[39m registry at `C:\\Users\\CCL\\.julia\\registries\\General`\n",
      "\u001b[32m\u001b[1m  Updating\u001b[22m\u001b[39m git-repo `https://github.com/JuliaRegistries/General.git`\n",
      "\u001b[2K\u001b[?25h[1mFetching:\u001b[22m\u001b[39m [========================================>]  100.0 %.0 % %\u001b[32m\u001b[1m Resolving\u001b[22m\u001b[39m package versions...\n",
      "\u001b[32m\u001b[1m  Updating\u001b[22m\u001b[39m `C:\\Users\\CCL\\.julia\\environments\\v1.3\\Project.toml`\n",
      "\u001b[90m [no changes]\u001b[39m\n",
      "\u001b[32m\u001b[1m  Updating\u001b[22m\u001b[39m `C:\\Users\\CCL\\.julia\\environments\\v1.3\\Manifest.toml`\n",
      "\u001b[90m [no changes]\u001b[39m\n"
     ]
    }
   ],
   "source": [
    "using Pkg; Pkg.add(\"Makie\")"
   ]
  },
  {
   "cell_type": "code",
   "execution_count": 2,
   "metadata": {},
   "outputs": [],
   "source": [
    "using Makie"
   ]
  },
  {
   "cell_type": "markdown",
   "metadata": {},
   "source": [
    "# Set the <code>Scene </code>\n",
    "\n",
    "The <code>Scene</code> object holds everything in a plot, and you can initialize it like so:"
   ]
  },
  {
   "cell_type": "code",
   "execution_count": 22,
   "metadata": {},
   "outputs": [
    {
     "data": {
      "text/plain": [
       "GLMakie.Screen(...)"
      ]
     },
     "execution_count": 22,
     "metadata": {},
     "output_type": "execute_result"
    }
   ],
   "source": [
    "scene = Scene()\n",
    "display(scene)"
   ]
  },
  {
   "cell_type": "markdown",
   "metadata": {},
   "source": [
    "Note that before you put anything in the scene, it will be blank"
   ]
  },
  {
   "cell_type": "markdown",
   "metadata": {},
   "source": [
    "# Basic plotting\n",
    "\n",
    "Below are some examples of basic plots to help you get oriented.\n",
    "\n",
    "You can put your mouse in the plot window and scroll to zoom. **Right click and drag** lets you pan around the scene, and **left click and drag** lets you do selection zoom (in 2D plots), or orbit around the scene (in 3D plots).\n",
    "\n",
    "Many of these examples also work in 3D.\n",
    "\n",
    "It is worth noting initally that if you run a Makie.jl example and nothing shows up, you likely need to do <code>display(scene)</code> to render the example on screen. Details [below](#dynamic)"
   ]
  },
  {
   "cell_type": "markdown",
   "metadata": {},
   "source": [
    "## Line plot"
   ]
  },
  {
   "cell_type": "code",
   "execution_count": 23,
   "metadata": {},
   "outputs": [
    {
     "data": {
      "text/plain": [
       "GLMakie.Screen(...)"
      ]
     },
     "execution_count": 23,
     "metadata": {},
     "output_type": "execute_result"
    }
   ],
   "source": [
    "using Makie\n",
    "\n",
    "x = 1:10; y1 = rand(10);\n",
    "scene = lines(x,y1)\n",
    "display(scene)"
   ]
  },
  {
   "cell_type": "markdown",
   "metadata": {},
   "source": [
    "## Adding to a scene"
   ]
  },
  {
   "cell_type": "code",
   "execution_count": 24,
   "metadata": {},
   "outputs": [
    {
     "data": {
      "text/plain": [
       "GLMakie.Screen(...)"
      ]
     },
     "execution_count": 24,
     "metadata": {},
     "output_type": "execute_result"
    }
   ],
   "source": [
    "using Makie\n",
    "\n",
    "y2 = rand(10); y3 = rand(10);\n",
    "lines!(scene, x, y2, color = :blue)\n",
    "lines!(scene, x, y3, color = :green)\n",
    "display(scene)"
   ]
  },
  {
   "cell_type": "markdown",
   "metadata": {},
   "source": [
    "## Adding title, axes labels"
   ]
  },
  {
   "cell_type": "code",
   "execution_count": 25,
   "metadata": {},
   "outputs": [
    {
     "data": {
      "text/plain": [
       "GLMakie.Screen(...)"
      ]
     },
     "execution_count": 25,
     "metadata": {},
     "output_type": "execute_result"
    }
   ],
   "source": [
    "sc_t = title(scene, \"Multiple Lines\") #only works when scene is not displayed in separate window\n",
    "xlabel!(scene, \"x-axis\")\n",
    "ylabel!(scene, \"y-axis\")\n",
    "sc_t\n",
    "display(scene)"
   ]
  },
  {
   "cell_type": "markdown",
   "metadata": {},
   "source": [
    "## Scatter Plot"
   ]
  },
  {
   "cell_type": "code",
   "execution_count": 26,
   "metadata": {},
   "outputs": [
    {
     "data": {
      "text/plain": [
       "GLMakie.Screen(...)"
      ]
     },
     "execution_count": 26,
     "metadata": {},
     "output_type": "execute_result"
    }
   ],
   "source": [
    "using Makie\n",
    "\n",
    "x = rand(10) \n",
    "y = rand(10)\n",
    "scene = scatter(x, color = :blue)\n",
    "scatter!(y, color = :orange)\n",
    "\n",
    "display(scene)"
   ]
  },
  {
   "cell_type": "markdown",
   "metadata": {},
   "source": [
    "## Combining Multiple Plots as Subplots"
   ]
  },
  {
   "cell_type": "code",
   "execution_count": 27,
   "metadata": {},
   "outputs": [
    {
     "data": {
      "text/plain": [
       "GLMakie.Screen(...)"
      ]
     },
     "execution_count": 27,
     "metadata": {},
     "output_type": "execute_result"
    }
   ],
   "source": [
    "using Makie\n",
    "import AbstractPlotting: pixelarea\n",
    "\n",
    "scene = Scene(resolution=(900,1400))\n",
    "\n",
    "area1 = map(pixelarea(scene)) do hh\n",
    "    pad, w, h = 20, 850, 360\n",
    "    FRect(Point2f0(20, 0), Point2f0(w,h))\n",
    "end\n",
    "\n",
    "area2 = map(pixelarea(scene)) do hh\n",
    "    pad, w, h = 20, 850, 360\n",
    "    FRect(Point2f0(20, h+2*pad), Point2f0(w,h))\n",
    "end\n",
    "\n",
    "area3 = map(pixelarea(scene)) do hh\n",
    "    pad, w, h = 20, 850, 360\n",
    "    FRect(Point2f0(20, 2*h+2*pad), Point2f0(w,h))\n",
    "end\n",
    "\n",
    "scene1 = Scene(scene, area1)\n",
    "scene2 = Scene(scene, area2)\n",
    "scene3 = Scene(scene, area3)\n",
    "\n",
    "lines!(scene1, 1:10, rand(10),color=\"blue\")[end]\n",
    "lines!(scene2, 1:10, rand(10), color=\"blue\")[end]\n",
    "lines!(scene3, 1:10, rand(10), color=\"blue\")[end]\n",
    "\n",
    "display(scene)"
   ]
  },
  {
   "cell_type": "markdown",
   "metadata": {},
   "source": [
    "## Multiple Subplots 2"
   ]
  },
  {
   "cell_type": "code",
   "execution_count": 30,
   "metadata": {},
   "outputs": [
    {
     "data": {
      "text/plain": [
       "GLMakie.Screen(...)"
      ]
     },
     "execution_count": 30,
     "metadata": {},
     "output_type": "execute_result"
    }
   ],
   "source": [
    "using Makie\n",
    "import AbstractPlotting: pixelarea\n",
    "\n",
    "scene = Scene(resolution=(1200,900))\n",
    "\n",
    "left_down = map(pixelarea(scene)) do hh\n",
    "    pad, w, h = 30, 555, 420\n",
    "    FRect(Point2f0(30, 30), Point2f0(w,h))\n",
    "end\n",
    "\n",
    "right_down = map(pixelarea(scene)) do hh\n",
    "    pad, w, h = 30, 555, 420\n",
    "    FRect(Point2f0(w+2*30, 30), Point2f0(w,h))\n",
    "end\n",
    "\n",
    "left_up = map(pixelarea(scene)) do hh\n",
    "    pad, w, h = 30, 555, 420\n",
    "    FRect(Point2f0(30, h+2*pad), Point2f0(w,h))\n",
    "end\n",
    "\n",
    "right_up = map(pixelarea(scene)) do hh\n",
    "    pad, w, h = 30, 555, 420\n",
    "    FRect(Point2f0(w+2*30, h+2*pad), Point2f0(w,h))\n",
    "end\n",
    "\n",
    "scene1 = Scene(scene, left_down)\n",
    "scene2 = Scene(scene, right_down)\n",
    "scene3 = Scene(scene, left_up)\n",
    "scene4 = Scene(scene, right_up)\n",
    "\n",
    "x = 1:10\n",
    "y1 = rand(10); y2 = rand(10); y3 = rand(10); y4 = rand(10);\n",
    "lines!(scene3, x, y1, color = :blue)\n",
    "lines!(scene3, x, y2, color = :purple)\n",
    "lines!(scene3, x, y3, color = :green)\n",
    "lines!(scene3, x, y4, color = :orange)[end]\n",
    "\n",
    "lines!(scene1, x, y1, color = :blue)\n",
    "lines!(scene1, x, y2, color = :purple)\n",
    "lines!(scene1, x, y3, color = :green)\n",
    "lines!(scene1, x, y4, color = :orange)\n",
    "xlabel!(scene1, \"This one is labelled\")\n",
    "\n",
    "data = [7, 7, 3, 3]\n",
    "barplot!(scene2, [0, 0, 6, 6], color=\"green\")\n",
    "barplot!(scene2, [0, 0, 5, 5], color=\"blue\")\n",
    "barplot!(scene2, data, color=\"purple\")\n",
    "\n",
    "scatter!(scene4, y1, color= :blue)\n",
    "scatter!(scene4, y2, color = :orange)\n",
    "scatter!(scene4, y3, color= :purple)\n",
    "scatter!(scene4, y4, color = :green)[end]\n",
    "display(scene)"
   ]
  },
  {
   "cell_type": "markdown",
   "metadata": {},
   "source": [
    "# Controlling display programmatically"
   ]
  },
  {
   "cell_type": "markdown",
   "metadata": {},
   "source": [
    "<code>Scenes</code> will only display by default in global scope. To make a Scene display when it's defined in a local scope, like a function or a module, you can call <code>display(scene)</code>, which will automatically display it in the best available display.\n",
    "You can force display to the backend's preferred window by calling <code>display(AbstractPlotting.PlotDisplay(), scene).</code>"
   ]
  },
  {
   "cell_type": "markdown",
   "metadata": {},
   "source": [
    "# Animations"
   ]
  },
  {
   "cell_type": "markdown",
   "metadata": {},
   "source": [
    "See the [Animation] (https://github.com/JuliaPlots/MakieGallery.jl/blob/master/docs/src/@ref) section, as well as the [Interaction] (https://github.com/JuliaPlots/MakieGallery.jl/blob/master/docs/src/@ref) section."
   ]
  },
  {
   "cell_type": "markdown",
   "metadata": {},
   "source": [
    "# References\n",
    "\\[1\\] http://makie.juliaplots.org/dev/basic-tutorials.html \\\n",
    "\\[2\\] http://makie.juliaplots.org/dev/statsmakie.html#StatsMakie-Tutorial-1 \\\n",
    "\\[3\\] http://docs.juliaplots.org/latest/tutorial/ \\\n",
    "\\[4\\] http://makie.juliaplots.org/stable/ \\\n",
    "\\[5\\] https://github.com/JuliaPlots/Makie.jl/issues/183"
   ]
  }
 ],
 "metadata": {
  "kernelspec": {
   "display_name": "Julia 1.3.0",
   "language": "julia",
   "name": "julia-1.3"
  },
  "language_info": {
   "file_extension": ".jl",
   "mimetype": "application/julia",
   "name": "julia",
   "version": "1.3.0"
  }
 },
 "nbformat": 4,
 "nbformat_minor": 2
}
